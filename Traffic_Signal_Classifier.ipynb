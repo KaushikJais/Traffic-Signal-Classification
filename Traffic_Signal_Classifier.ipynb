{
 "cells": [
  {
   "cell_type": "markdown",
   "metadata": {
    "colab_type": "text",
    "id": "HNkTtjURy6xq"
   },
   "source": [
    "# Self-Driving Car Engineer Nanodegree\n",
    "\n",
    "## Deep Learning\n",
    "\n",
    "## Project: Build a Traffic Sign Recognition Classifier\n",
    "\n",
    "In this notebook, a template is provided for you to implement your functionality in stages, which is required to successfully complete this project. If additional code is required that cannot be included in the notebook, be sure that the Python code is successfully imported and included in your submission if necessary. \n",
    "\n",
    "> **Note**: Once you have completed all of the code implementations, you need to finalize your work by exporting the iPython Notebook as an HTML document. Before exporting the notebook to html, all of the code cells need to have been run so that reviewers can see the final implementation and output. You can then export the notebook by using the menu above and navigating to  \\n\",\n",
    "    \"**File -> Download as -> HTML (.html)**. Include the finished document along with this notebook as your submission. \n",
    "\n",
    "In addition to implementing code, there is a writeup to complete. The writeup should be completed in a separate file, which can be either a markdown file or a pdf document. There is a [write up template](https://github.com/udacity/CarND-Traffic-Sign-Classifier-Project/blob/master/writeup_template.md) that can be used to guide the writing process. Completing the code template and writeup template will cover all of the [rubric points](https://review.udacity.com/#!/rubrics/481/view) for this project.\n",
    "\n",
    "The [rubric](https://review.udacity.com/#!/rubrics/481/view) contains \"Stand Out Suggestions\" for enhancing the project beyond the minimum requirements. The stand out suggestions are optional. If you decide to pursue the \"stand out suggestions\", you can include the code in this Ipython notebook and also discuss the results in the writeup file.\n",
    "\n",
    "\n",
    ">**Note:** Code and Markdown cells can be executed using the **Shift + Enter** keyboard shortcut. In addition, Markdown cells can be edited by typically double-clicking the cell to enter edit mode."
   ]
  },
  {
   "cell_type": "code",
   "execution_count": 1,
   "metadata": {
    "colab": {
     "base_uri": "https://localhost:8080/",
     "height": 204
    },
    "colab_type": "code",
    "id": "tWMSno53zBgP",
    "outputId": "50c8daf9-ff24-4a57-d10f-1a58d055e959"
   },
   "outputs": [
    {
     "name": "stdout",
     "output_type": "stream",
     "text": [
      "--2019-01-02 05:52:31--  https://s3-us-west-1.amazonaws.com/udacity-selfdrivingcar/traffic-signs-data.zip\n",
      "Resolving s3-us-west-1.amazonaws.com (s3-us-west-1.amazonaws.com)... 52.219.112.41\n",
      "Connecting to s3-us-west-1.amazonaws.com (s3-us-west-1.amazonaws.com)|52.219.112.41|:443... connected.\n",
      "HTTP request sent, awaiting response... 200 OK\n",
      "Length: 123524425 (118M) [application/zip]\n",
      "Saving to: ‘traffic-signs-data.zip’\n",
      "\n",
      "traffic-signs-data. 100%[===================>] 117.80M  66.1MB/s    in 1.8s    \n",
      "\n",
      "2019-01-02 05:52:33 (66.1 MB/s) - ‘traffic-signs-data.zip’ saved [123524425/123524425]\n",
      "\n"
     ]
    }
   ],
   "source": [
    "!wget https://s3-us-west-1.amazonaws.com/udacity-selfdrivingcar/traffic-signs-data.zip"
   ]
  },
  {
   "cell_type": "code",
   "execution_count": 0,
   "metadata": {
    "colab": {},
    "colab_type": "code",
    "id": "jtT0IBnQzBcz"
   },
   "outputs": [],
   "source": [
    "!unzip -qq traffic-signs-data.zip"
   ]
  },
  {
   "cell_type": "code",
   "execution_count": 0,
   "metadata": {
    "colab": {},
    "colab_type": "code",
    "id": "8LlHQFxmzBXg"
   },
   "outputs": [],
   "source": [
    "import numpy as np\n",
    "import matplotlib.pyplot as plt\n",
    "%matplotlib inline"
   ]
  },
  {
   "cell_type": "markdown",
   "metadata": {
    "colab_type": "text",
    "id": "2bXEDJQSy6xt"
   },
   "source": [
    "---\n",
    "## Step 0: Load The Data"
   ]
  },
  {
   "cell_type": "code",
   "execution_count": 0,
   "metadata": {
    "colab": {},
    "colab_type": "code",
    "id": "19bV_7Szy6xu"
   },
   "outputs": [],
   "source": [
    "# Load pickled data\n",
    "import pickle\n",
    "\n",
    "# TODO: Fill this in based on where you saved the training and testing data\n",
    "\n",
    "training_file = '/content/train.p'\n",
    "validation_file='/content/valid.p'\n",
    "testing_file = '/content/test.p'\n",
    "\n",
    "with open(training_file, mode='rb') as f:\n",
    "    train = pickle.load(f)\n",
    "with open(validation_file, mode='rb') as f:\n",
    "    valid = pickle.load(f)\n",
    "with open(testing_file, mode='rb') as f:\n",
    "    test = pickle.load(f)\n",
    "    \n",
    "X_train, y_train = train['features'], train['labels']\n",
    "X_valid, y_valid = valid['features'], valid['labels']\n",
    "X_test, y_test = test['features'], test['labels']"
   ]
  },
  {
   "cell_type": "markdown",
   "metadata": {
    "colab_type": "text",
    "id": "r2hpYoHRy6xy"
   },
   "source": [
    "---\n",
    "\n",
    "## Step 1: Dataset Summary & Exploration\n",
    "\n",
    "The pickled data is a dictionary with 4 key/value pairs:\n",
    "\n",
    "- `'features'` is a 4D array containing raw pixel data of the traffic sign images, (num examples, width, height, channels).\n",
    "- `'labels'` is a 1D array containing the label/class id of the traffic sign. The file `signnames.csv` contains id -> name mappings for each id.\n",
    "- `'sizes'` is a list containing tuples, (width, height) representing the original width and height the image.\n",
    "- `'coords'` is a list containing tuples, (x1, y1, x2, y2) representing coordinates of a bounding box around the sign in the image. **THESE COORDINATES ASSUME THE ORIGINAL IMAGE. THE PICKLED DATA CONTAINS RESIZED VERSIONS (32 by 32) OF THESE IMAGES**\n",
    "\n",
    "Complete the basic data summary below. Use python, numpy and/or pandas methods to calculate the data summary rather than hard coding the results. For example, the [pandas shape method](http://pandas.pydata.org/pandas-docs/stable/generated/pandas.DataFrame.shape.html) might be useful for calculating some of the summary results. "
   ]
  },
  {
   "cell_type": "markdown",
   "metadata": {
    "colab_type": "text",
    "id": "xEzqliaPy6xz"
   },
   "source": [
    "### Provide a Basic Summary of the Data Set Using Python, Numpy and/or Pandas"
   ]
  },
  {
   "cell_type": "code",
   "execution_count": 5,
   "metadata": {
    "colab": {
     "base_uri": "https://localhost:8080/",
     "height": 85
    },
    "colab_type": "code",
    "id": "ZaxD_G8Jy6x0",
    "outputId": "523933c9-856f-4817-fed5-e296f2c8f847"
   },
   "outputs": [
    {
     "name": "stdout",
     "output_type": "stream",
     "text": [
      "Number of training examples = 34799\n",
      "Number of testing examples = 12630\n",
      "Image data shape = (32, 32, 3)\n",
      "Number of classes = 43\n"
     ]
    }
   ],
   "source": [
    "### Replace each question mark with the appropriate value. \n",
    "### Use python, pandas or numpy methods rather than hard coding the results\n",
    "\n",
    "# TODO: Number of training examples\n",
    "n_train = np.shape(X_train)[0]\n",
    "\n",
    "# TODO: Number of validation examples\n",
    "n_validation = np.shape(X_valid)[0]\n",
    "\n",
    "# TODO: Number of testing examples.\n",
    "n_test = np.shape(X_test)[0]\n",
    "\n",
    "# TODO: What's the shape of an traffic sign image?\n",
    "image_shape = np.shape(X_train[0])\n",
    "\n",
    "# TODO: How many unique classes/labels there are in the dataset.\n",
    "n_classes = len(np.unique(y_train))\n",
    "\n",
    "print(\"Number of training examples =\", n_train)\n",
    "print(\"Number of testing examples =\", n_test)\n",
    "print(\"Image data shape =\", image_shape)\n",
    "print(\"Number of classes =\", n_classes)"
   ]
  },
  {
   "cell_type": "markdown",
   "metadata": {
    "colab_type": "text",
    "id": "dErGULCoy6x4"
   },
   "source": [
    "### Include an exploratory visualization of the dataset"
   ]
  },
  {
   "cell_type": "markdown",
   "metadata": {
    "colab_type": "text",
    "id": "4i1H6QXIy6x4"
   },
   "source": [
    "Visualize the German Traffic Signs Dataset using the pickled file(s). This is open ended, suggestions include: plotting traffic sign images, plotting the count of each sign, etc. \n",
    "\n",
    "The [Matplotlib](http://matplotlib.org/) [examples](http://matplotlib.org/examples/index.html) and [gallery](http://matplotlib.org/gallery.html) pages are a great resource for doing visualizations in Python.\n",
    "\n",
    "**NOTE:** It's recommended you start with something simple first. If you wish to do more, come back to it after you've completed the rest of the sections. It can be interesting to look at the distribution of classes in the training, validation and test set. Is the distribution the same? Are there more examples of some classes than others?"
   ]
  },
  {
   "cell_type": "code",
   "execution_count": 0,
   "metadata": {
    "colab": {},
    "colab_type": "code",
    "id": "tmV8vXBZy6x5"
   },
   "outputs": [],
   "source": [
    "### Data exploration visualization code goes here.\n",
    "### Feel free to use as many code cells as needed.\n",
    "import pandas as pd"
   ]
  },
  {
   "cell_type": "code",
   "execution_count": 0,
   "metadata": {
    "colab": {},
    "colab_type": "code",
    "id": "9bQvUz-H8XXg"
   },
   "outputs": [],
   "source": []
  },
  {
   "cell_type": "code",
   "execution_count": 7,
   "metadata": {
    "colab": {
     "base_uri": "https://localhost:8080/",
     "height": 204
    },
    "colab_type": "code",
    "id": "wyk8mXKxJjSR",
    "outputId": "cc88d88a-7e32-450f-f233-73e5a21bf4b0"
   },
   "outputs": [
    {
     "data": {
      "text/html": [
       "<div>\n",
       "<style scoped>\n",
       "    .dataframe tbody tr th:only-of-type {\n",
       "        vertical-align: middle;\n",
       "    }\n",
       "\n",
       "    .dataframe tbody tr th {\n",
       "        vertical-align: top;\n",
       "    }\n",
       "\n",
       "    .dataframe thead th {\n",
       "        text-align: right;\n",
       "    }\n",
       "</style>\n",
       "<table border=\"1\" class=\"dataframe\">\n",
       "  <thead>\n",
       "    <tr style=\"text-align: right;\">\n",
       "      <th></th>\n",
       "      <th>ClassId</th>\n",
       "      <th>SignName</th>\n",
       "    </tr>\n",
       "  </thead>\n",
       "  <tbody>\n",
       "    <tr>\n",
       "      <th>0</th>\n",
       "      <td>0</td>\n",
       "      <td>Speed limit (20km/h)</td>\n",
       "    </tr>\n",
       "    <tr>\n",
       "      <th>1</th>\n",
       "      <td>1</td>\n",
       "      <td>Speed limit (30km/h)</td>\n",
       "    </tr>\n",
       "    <tr>\n",
       "      <th>2</th>\n",
       "      <td>2</td>\n",
       "      <td>Speed limit (50km/h)</td>\n",
       "    </tr>\n",
       "    <tr>\n",
       "      <th>3</th>\n",
       "      <td>3</td>\n",
       "      <td>Speed limit (60km/h)</td>\n",
       "    </tr>\n",
       "    <tr>\n",
       "      <th>4</th>\n",
       "      <td>4</td>\n",
       "      <td>Speed limit (70km/h)</td>\n",
       "    </tr>\n",
       "  </tbody>\n",
       "</table>\n",
       "</div>"
      ],
      "text/plain": [
       "   ClassId              SignName\n",
       "0        0  Speed limit (20km/h)\n",
       "1        1  Speed limit (30km/h)\n",
       "2        2  Speed limit (50km/h)\n",
       "3        3  Speed limit (60km/h)\n",
       "4        4  Speed limit (70km/h)"
      ]
     },
     "execution_count": 7,
     "metadata": {
      "tags": []
     },
     "output_type": "execute_result"
    }
   ],
   "source": [
    "german_csv = pd.read_csv('/content/signnames.csv')\n",
    "german_csv.head()"
   ]
  },
  {
   "cell_type": "code",
   "execution_count": 8,
   "metadata": {
    "colab": {
     "base_uri": "https://localhost:8080/",
     "height": 204
    },
    "colab_type": "code",
    "id": "THszCOxZJ3Y3",
    "outputId": "ff47e69c-77ad-4123-94f1-e33b08a32c1b"
   },
   "outputs": [
    {
     "data": {
      "text/html": [
       "<div>\n",
       "<style scoped>\n",
       "    .dataframe tbody tr th:only-of-type {\n",
       "        vertical-align: middle;\n",
       "    }\n",
       "\n",
       "    .dataframe tbody tr th {\n",
       "        vertical-align: top;\n",
       "    }\n",
       "\n",
       "    .dataframe thead th {\n",
       "        text-align: right;\n",
       "    }\n",
       "</style>\n",
       "<table border=\"1\" class=\"dataframe\">\n",
       "  <thead>\n",
       "    <tr style=\"text-align: right;\">\n",
       "      <th></th>\n",
       "      <th>ClassId</th>\n",
       "      <th>SignName</th>\n",
       "    </tr>\n",
       "  </thead>\n",
       "  <tbody>\n",
       "    <tr>\n",
       "      <th>38</th>\n",
       "      <td>38</td>\n",
       "      <td>Keep right</td>\n",
       "    </tr>\n",
       "    <tr>\n",
       "      <th>39</th>\n",
       "      <td>39</td>\n",
       "      <td>Keep left</td>\n",
       "    </tr>\n",
       "    <tr>\n",
       "      <th>40</th>\n",
       "      <td>40</td>\n",
       "      <td>Roundabout mandatory</td>\n",
       "    </tr>\n",
       "    <tr>\n",
       "      <th>41</th>\n",
       "      <td>41</td>\n",
       "      <td>End of no passing</td>\n",
       "    </tr>\n",
       "    <tr>\n",
       "      <th>42</th>\n",
       "      <td>42</td>\n",
       "      <td>End of no passing by vehicles over 3.5 metric ...</td>\n",
       "    </tr>\n",
       "  </tbody>\n",
       "</table>\n",
       "</div>"
      ],
      "text/plain": [
       "    ClassId                                           SignName\n",
       "38       38                                         Keep right\n",
       "39       39                                          Keep left\n",
       "40       40                               Roundabout mandatory\n",
       "41       41                                  End of no passing\n",
       "42       42  End of no passing by vehicles over 3.5 metric ..."
      ]
     },
     "execution_count": 8,
     "metadata": {
      "tags": []
     },
     "output_type": "execute_result"
    }
   ],
   "source": [
    "german_csv.tail()"
   ]
  },
  {
   "cell_type": "code",
   "execution_count": 0,
   "metadata": {
    "colab": {},
    "colab_type": "code",
    "id": "3V6gIDfUJ-kc"
   },
   "outputs": [],
   "source": [
    "def plot_bar(y,name):\n",
    "  class_arr = []\n",
    "  sample_per_class = []\n",
    "\n",
    "  for class_n in range(n_classes):\n",
    "    class_ind = np.where(y == class_n)\n",
    "    num_samples = len(class_ind[0])\n",
    "    sample_per_class.append(num_samples)\n",
    "    class_arr.append(class_n)\n",
    "  plt.bar(class_arr,sample_per_class)\n",
    "  plt.title(name)"
   ]
  },
  {
   "cell_type": "code",
   "execution_count": 10,
   "metadata": {
    "colab": {
     "base_uri": "https://localhost:8080/",
     "height": 280
    },
    "colab_type": "code",
    "id": "O9klSrNpMaYx",
    "outputId": "1ab62a34-fe5e-4f1d-85ae-39c6c8c3383b"
   },
   "outputs": [
    {
     "data": {
      "image/png": "[encoded data removed]",
      "text/plain": [
       "<matplotlib.figure.Figure at 0x7f3ebc785160>"
      ]
     },
     "metadata": {
      "tags": []
     },
     "output_type": "display_data"
    }
   ],
   "source": [
    "plot_bar(y_train,'Training Set')"
   ]
  },
  {
   "cell_type": "code",
   "execution_count": 11,
   "metadata": {
    "colab": {
     "base_uri": "https://localhost:8080/",
     "height": 280
    },
    "colab_type": "code",
    "id": "ZR3ZYunlNP7f",
    "outputId": "5cd8c85d-3349-4c30-bfe1-f369673e832a"
   },
   "outputs": [
    {
     "data": {
      "image/png": "[encoded data removed]",
      "text/plain": [
       "<matplotlib.figure.Figure at 0x7f3ebc702f98>"
      ]
     },
     "metadata": {
      "tags": []
     },
     "output_type": "display_data"
    }
   ],
   "source": [
    "plot_bar(y_test,'Test set')"
   ]
  },
  {
   "cell_type": "code",
   "execution_count": 12,
   "metadata": {
    "colab": {
     "base_uri": "https://localhost:8080/",
     "height": 280
    },
    "colab_type": "code",
    "id": "B6Z4z4ciNP-0",
    "outputId": "815cc665-aad8-446d-d24c-8645872fc9f9"
   },
   "outputs": [
    {
     "data": {
      "image/png": "[encoded data removed]",
      "text/plain": [
       "<matplotlib.figure.Figure at 0x7f3ebc7dcef0>"
      ]
     },
     "metadata": {
      "tags": []
     },
     "output_type": "display_data"
    }
   ],
   "source": [
    "plot_bar(y_valid,'Validation Set')"
   ]
  },
  {
   "cell_type": "code",
   "execution_count": 0,
   "metadata": {
    "colab": {},
    "colab_type": "code",
    "id": "g8GrOk4kOz-e"
   },
   "outputs": [],
   "source": [
    "# def plot_figure(figures,nrows = 1 ,ncols = 1 ,labels = None):\n",
    "  \n",
    "#   fig, axs = plt.subplots(ncols=ncols, nrows=nrows, figsize=(12, 14))\n",
    "#   axs = axs.ravel()\n",
    "#   for index, title in zip(range(len(figures)), figures):\n",
    "#     axs[index].imshow(figures[title], plt.gray())\n",
    "#     axs[index].set_title(labels[index])\n",
    "#     axs[index].set_axis_off()\n",
    "#   plt.tight_layout()     "
   ]
  },
  {
   "cell_type": "code",
   "execution_count": 0,
   "metadata": {
    "colab": {},
    "colab_type": "code",
    "id": "56L01hsZJe2x"
   },
   "outputs": [],
   "source": [
    "# labels = {}\n",
    "# figures = {}\n",
    "\n",
    "# for i in range(4):\n",
    "#   labels = {}\n",
    "#   figure = {}\n",
    "#   index = np.random.randint(0,n_train-1)\n",
    "#   labels[i] = german_csv[german_csv['ClassId']==y_train[index]]['SignName']\n",
    "#   figures[i] = X_train[index].squeeze()\n",
    "\n",
    "# # plot_figure(figures,1,4,labels)\n",
    "  "
   ]
  },
  {
   "cell_type": "code",
   "execution_count": 14,
   "metadata": {
    "colab": {
     "base_uri": "https://localhost:8080/",
     "height": 122
    },
    "colab_type": "code",
    "id": "FLSfbPDRRW42",
    "outputId": "ec422ed1-e2f1-4856-918a-b6b4b815c8ed"
   },
   "outputs": [
    {
     "name": "stdout",
     "output_type": "stream",
     "text": [
      "30\n"
     ]
    },
    {
     "data": {
      "image/png": "[encoded data removed]",
      "text/plain": [
       "<matplotlib.figure.Figure at 0x7f3eb9db3978>"
      ]
     },
     "metadata": {
      "tags": []
     },
     "output_type": "display_data"
    }
   ],
   "source": [
    "index = np.random.randint(0, len(X_train))\n",
    "image = X_train[index].squeeze()\n",
    "\n",
    "plt.figure(figsize=(1,1))\n",
    "plt.imshow(image)\n",
    "print(y_train[index])"
   ]
  },
  {
   "cell_type": "markdown",
   "metadata": {
    "colab_type": "text",
    "id": "8-SoPFfvb3Q0"
   },
   "source": []
  },
  {
   "cell_type": "markdown",
   "metadata": {
    "colab_type": "text",
    "id": "pNiSHvTty6x9"
   },
   "source": [
    "----\n",
    "\n",
    "## Step 2: Design and Test a Model Architecture\n",
    "\n",
    "Design and implement a deep learning model that learns to recognize traffic signs. Train and test your model on the [German Traffic Sign Dataset](http://benchmark.ini.rub.de/?section=gtsrb&subsection=dataset).\n",
    "\n",
    "The LeNet-5 implementation shown in the [classroom](https://classroom.udacity.com/nanodegrees/nd013/parts/fbf77062-5703-404e-b60c-95b78b2f3f9e/modules/6df7ae49-c61c-4bb2-a23e-6527e69209ec/lessons/601ae704-1035-4287-8b11-e2c2716217ad/concepts/d4aca031-508f-4e0b-b493-e7b706120f81) at the end of the CNN lesson is a solid starting point. You'll have to change the number of classes and possibly the preprocessing, but aside from that it's plug and play! \n",
    "\n",
    "With the LeNet-5 solution from the lecture, you should expect a validation set accuracy of about 0.89. To meet specifications, the validation set accuracy will need to be at least 0.93. It is possible to get an even higher accuracy, but 0.93 is the minimum for a successful project submission. \n",
    "\n",
    "There are various aspects to consider when thinking about this problem:\n",
    "\n",
    "- Neural network architecture (is the network over or underfitting?)\n",
    "- Play around preprocessing techniques (normalization, rgb to grayscale, etc)\n",
    "- Number of examples per label (some have more than others).\n",
    "- Generate fake data.\n",
    "\n",
    "Here is an example of a [published baseline model on this problem](http://yann.lecun.com/exdb/publis/pdf/sermanet-ijcnn-11.pdf). It's not required to be familiar with the approach used in the paper but, it's good practice to try to read papers like these."
   ]
  },
  {
   "cell_type": "markdown",
   "metadata": {
    "colab_type": "text",
    "id": "6iTi22l2y6x9"
   },
   "source": [
    "### Pre-process the Data Set (normalization, grayscale, etc.)"
   ]
  },
  {
   "cell_type": "markdown",
   "metadata": {
    "colab_type": "text",
    "id": "5Uu8Usm9y6x9"
   },
   "source": [
    "Minimally, the image data should be normalized so that the data has mean zero and equal variance. For image data, `(pixel - 128)/ 128` is a quick way to approximately normalize the data and can be used in this project. \n",
    "\n",
    "Other pre-processing steps are optional. You can try different techniques to see if it improves performance. \n",
    "\n",
    "Use the code cell (or multiple code cells, if necessary) to implement the first step of your project."
   ]
  },
  {
   "cell_type": "code",
   "execution_count": 0,
   "metadata": {
    "colab": {},
    "colab_type": "code",
    "id": "ulJCwK8yy6x_"
   },
   "outputs": [],
   "source": [
    "### Preprocess the data here. It is required to normalize the data. Other preprocessing steps could include \n",
    "### converting to grayscale, etc.\n",
    "### Feel free to use as many code cells as needed."
   ]
  },
  {
   "cell_type": "code",
   "execution_count": 0,
   "metadata": {
    "colab": {},
    "colab_type": "code",
    "id": "ZCMNof7hcNve"
   },
   "outputs": [],
   "source": [
    "#Normalisation \n",
    "def converttogray(x):\n",
    "  return np.sum(x/3 ,axis=3,keepdims = True)\n",
    "X_train = converttogray(X_train)\n",
    "X_test = converttogray(X_test)\n",
    "X_valid = converttogray(X_valid)"
   ]
  },
  {
   "cell_type": "code",
   "execution_count": 0,
   "metadata": {
    "colab": {},
    "colab_type": "code",
    "id": "jSbzOPWXAQwW"
   },
   "outputs": [],
   "source": [
    "from sklearn.model_selection import train_test_split\n",
    "import cv2\n",
    "import random\n",
    "\n",
    "#translation\n",
    "def translate(x):\n",
    "    dx, dy = np.random.randint(-1.7, 1.8, 2)\n",
    "    M = np.float32([[1, 0, dx], [0, 1, dy]])\n",
    "    dst = cv2.warpAffine(x, M, (x.shape[0], x.shape[1]))\n",
    "    dst = dst[:,:,None]\n",
    "    return dst\n",
    "\n",
    "#perspective transform\n",
    "def perspective_transform(x):\n",
    "    random_higher_bound = random.randint(27, 32)\n",
    "    random_lower_bound = random.randint(0, 5)\n",
    "    points_one = np.float32([[0,0],[32,0],[0,32],[32,32]])\n",
    "    points_two = np.float32([[0, 0], [random_higher_bound, random_lower_bound], [random_lower_bound, 32],[32, random_higher_bound]])\n",
    "    M = cv2.getPerspectiveTransform(points_one, points_two)\n",
    "    dst = cv2.warpPerspective(x, M, (32,32))\n",
    "    return dst\n",
    "\n",
    "#Rotation\n",
    "def rotation(x):\n",
    "    tilt = random.randint(-12, 12)\n",
    "    M = cv2.getRotationMatrix2D((x.shape[0]/2, x.shape[1]/2), tilt, 1)\n",
    "    dst = cv2.warpAffine(x, M, (x.shape[0], x.shape[1]))\n",
    "    #return np.reshape(dst,(32,32,1))\n",
    "    return dst\n"
   ]
  },
  {
   "cell_type": "code",
   "execution_count": 0,
   "metadata": {
    "colab": {},
    "colab_type": "code",
    "id": "b7FuC00NATOP"
   },
   "outputs": [],
   "source": [
    "X_new = []\n",
    "y_new = []\n",
    "\n",
    "X_new2 = []\n",
    "y_new2 = []\n",
    "\n",
    "unique_train, counts_train = np.unique(y_train, return_counts=True)\n",
    "new_counts_train = counts_train\n",
    "for i in range(n_train):\n",
    "    if(new_counts_train[y_train[i]] < 3000):\n",
    "        for j in range(3):\n",
    "            X_new.append(translate(X_train[i]))\n",
    "            y_new.append(y_train[i])\n",
    "\n",
    "            X_new2.append(perspective_transform(X_train[i]))\n",
    "            y_new2.append(y_train[i])\n",
    "        \n",
    "            X_new2.append(rotation(X_train[i]))\n",
    "            y_new2.append(y_train[i])\n",
    "            \n",
    "            new_counts_train[y_train[i]] += 2\n",
    "    \n",
    "X_new = np.array(X_new)\n",
    "y_new = np.array(y_new)\n",
    "X_train = np.concatenate((X_train, X_new), axis=0)\n",
    "y_train = np.concatenate((y_train, y_new), axis=0)\n",
    "\n",
    "X_new2 = np.array(X_new2)\n",
    "y_new2 = np.array(y_new2)\n",
    "X_new2 = np.reshape(X_new2, (np.shape(X_new2)[0], 32, 32, 1))\n",
    "X_train = np.concatenate((X_train, X_new2), axis=0)\n",
    "y_train = np.concatenate((y_train, y_new2), axis=0)\n",
    "\n",
    "X_train = np.concatenate((X_train, X_valid), axis=0)\n",
    "y_train = np.concatenate((y_train, y_valid), axis=0)\n",
    "\n",
    "X_train, X_valid, y_train, y_valid = train_test_split(X_train, y_train, test_size=0.2, random_state=0)"
   ]
  },
  {
   "cell_type": "code",
   "execution_count": 19,
   "metadata": {
    "colab": {
     "base_uri": "https://localhost:8080/",
     "height": 297
    },
    "colab_type": "code",
    "id": "T37X3LVJAYIB",
    "outputId": "846297b2-82d7-45f6-e23a-8d992367ae0a"
   },
   "outputs": [
    {
     "name": "stdout",
     "output_type": "stream",
     "text": [
      "(119106, 32, 32, 1)\n"
     ]
    },
    {
     "data": {
      "image/png": "[encoded data removed]",
      "text/plain": [
       "<matplotlib.figure.Figure at 0x7f3eb9ddaba8>"
      ]
     },
     "metadata": {
      "tags": []
     },
     "output_type": "display_data"
    }
   ],
   "source": [
    "print(X_train.shape)\n",
    "plot_bar(y_train,\"Training set count\")\n",
    "\n"
   ]
  },
  {
   "cell_type": "code",
   "execution_count": 20,
   "metadata": {
    "colab": {
     "base_uri": "https://localhost:8080/",
     "height": 297
    },
    "colab_type": "code",
    "id": "-wH7JGM7BAjT",
    "outputId": "a2687673-d052-4fa7-b9b9-e6d7aabd2d9b"
   },
   "outputs": [
    {
     "name": "stdout",
     "output_type": "stream",
     "text": [
      "(29777, 32, 32, 1)\n"
     ]
    },
    {
     "data": {
      "image/png": "[encoded data removed]",
      "text/plain": [
       "<matplotlib.figure.Figure at 0x7f3eb047b630>"
      ]
     },
     "metadata": {
      "tags": []
     },
     "output_type": "display_data"
    }
   ],
   "source": [
    "print(X_valid.shape)\n",
    "plot_bar(y_test,\"Test set count\")"
   ]
  },
  {
   "cell_type": "code",
   "execution_count": 21,
   "metadata": {
    "colab": {
     "base_uri": "https://localhost:8080/",
     "height": 297
    },
    "colab_type": "code",
    "id": "ab8Ryy2GA_CV",
    "outputId": "e55164f8-d033-416b-a90d-54952d1b0d28"
   },
   "outputs": [
    {
     "name": "stdout",
     "output_type": "stream",
     "text": [
      "(12630, 32, 32, 1)\n"
     ]
    },
    {
     "data": {
      "image/png": "[encoded data removed]",
      "text/plain": [
       "<matplotlib.figure.Figure at 0x7f3eb043e780>"
      ]
     },
     "metadata": {
      "tags": []
     },
     "output_type": "display_data"
    }
   ],
   "source": [
    "print(X_test.shape)\n",
    "plot_bar(y_valid,\"Validation set count\")"
   ]
  },
  {
   "cell_type": "code",
   "execution_count": 0,
   "metadata": {
    "colab": {},
    "colab_type": "code",
    "id": "4nSnRKbIjAVL"
   },
   "outputs": [],
   "source": [
    "def Normalisation(x):\n",
    "  mean = 128\n",
    "  std = 128\n",
    "  return (x-mean)/std\n",
    "X_train = Normalisation(X_train)\n",
    "X_test = Normalisation(X_test)\n",
    "X_valid = Normalisation(X_valid)"
   ]
  },
  {
   "cell_type": "code",
   "execution_count": 23,
   "metadata": {
    "colab": {
     "base_uri": "https://localhost:8080/",
     "height": 283
    },
    "colab_type": "code",
    "id": "W5HmbJiQjWqR",
    "outputId": "ccf58f6c-3ceb-4b4c-903c-5e1c784b7e0a"
   },
   "outputs": [
    {
     "data": {
      "text/plain": [
       "(-0.5, 31.5, 31.5, -0.5)"
      ]
     },
     "execution_count": 23,
     "metadata": {
      "tags": []
     },
     "output_type": "execute_result"
    },
    {
     "data": {
      "image/png": "[encoded data removed]",
      "text/plain": [
       "<matplotlib.figure.Figure at 0x7f3eb03169e8>"
      ]
     },
     "metadata": {
      "tags": []
     },
     "output_type": "display_data"
    }
   ],
   "source": [
    "image = X_train[10000].squeeze()\n",
    "plt.imshow(image,cmap = 'gray')\n",
    "plt.axis('off')"
   ]
  },
  {
   "cell_type": "code",
   "execution_count": 24,
   "metadata": {
    "colab": {
     "base_uri": "https://localhost:8080/",
     "height": 238
    },
    "colab_type": "code",
    "id": "WrcCqw9dkASv",
    "outputId": "de9bbb66-329b-486f-a737-3d7fac819314"
   },
   "outputs": [
    {
     "data": {
      "text/plain": [
       "array([[-0.90364583, -0.88802083, -0.74739583, ..., -0.76302083,\n",
       "        -0.78385417, -1.        ],\n",
       "       [-0.89583333, -0.90625   , -0.83854167, ..., -0.65364583,\n",
       "        -0.7265625 , -1.        ],\n",
       "       [-0.8828125 , -0.88802083, -0.875     , ..., -0.6171875 ,\n",
       "        -0.77864583, -1.        ],\n",
       "       ...,\n",
       "       [-0.5390625 , -0.75      , -0.86197917, ..., -0.89583333,\n",
       "        -0.90625   , -1.        ],\n",
       "       [-0.57552083, -0.58072917, -0.83072917, ..., -0.890625  ,\n",
       "        -0.89583333, -1.        ],\n",
       "       [-0.80989583, -0.71875   , -0.8515625 , ..., -0.89583333,\n",
       "        -0.89322917, -1.        ]])"
      ]
     },
     "execution_count": 24,
     "metadata": {
      "tags": []
     },
     "output_type": "execute_result"
    }
   ],
   "source": [
    "image\n"
   ]
  },
  {
   "cell_type": "markdown",
   "metadata": {
    "colab_type": "text",
    "id": "g5f4xV6OcNfs"
   },
   "source": []
  },
  {
   "cell_type": "markdown",
   "metadata": {
    "colab_type": "text",
    "id": "j4szd7tzy6yB"
   },
   "source": [
    "### Model Architecture"
   ]
  },
  {
   "cell_type": "code",
   "execution_count": 0,
   "metadata": {
    "colab": {},
    "colab_type": "code",
    "id": "luMoVckmy6yC"
   },
   "outputs": [],
   "source": [
    "### Define your architecture here.\n",
    "### Feel free to use as many code cells as needed.\n",
    "\n"
   ]
  },
  {
   "cell_type": "code",
   "execution_count": 0,
   "metadata": {
    "colab": {},
    "colab_type": "code",
    "id": "4bh07bMslyov"
   },
   "outputs": [],
   "source": [
    "#Shuffle the data\n",
    "from sklearn.utils import shuffle\n",
    "X_train,y_train = shuffle(X_train,y_train)"
   ]
  },
  {
   "cell_type": "code",
   "execution_count": 0,
   "metadata": {
    "colab": {},
    "colab_type": "code",
    "id": "SK04DtaElym8"
   },
   "outputs": [],
   "source": [
    "import tensorflow as tf"
   ]
  },
  {
   "cell_type": "code",
   "execution_count": 0,
   "metadata": {
    "colab": {},
    "colab_type": "code",
    "id": "5zKwl9-qlyjZ"
   },
   "outputs": [],
   "source": [
    "EPOCHS = 30\n",
    "BATCH_SIZE=128\n",
    "dropout = 0.5"
   ]
  },
  {
   "cell_type": "code",
   "execution_count": 0,
   "metadata": {
    "colab": {},
    "colab_type": "code",
    "id": "NWrI-7NWmIfS"
   },
   "outputs": [],
   "source": [
    "from tensorflow.contrib.layers import flatten"
   ]
  },
  {
   "cell_type": "code",
   "execution_count": 0,
   "metadata": {
    "colab": {},
    "colab_type": "code",
    "id": "gX9svw8DmIdr"
   },
   "outputs": [],
   "source": [
    "def LeNet(x):\n",
    "  mu = 0\n",
    "  sigma = 0.1\n",
    "  \n",
    "  #Layer1: Input = 32x32x1 output = 28x28x6\n",
    "  conv1_W = tf.Variable(tf.truncated_normal(shape = (5,5,1,6),mean=mu,stddev=sigma))\n",
    "  conv1_b = tf.Variable(tf.zeros(6))\n",
    "  conv1 = tf.nn.conv2d(x,conv1_W,strides = [1,1,1,1],padding='VALID') + conv1_b\n",
    "  \n",
    "  #Activation Layer1\n",
    "  conv1 = tf.nn.relu(conv1)\n",
    "  \n",
    "  \n",
    "  #Pooling Layer: Input = 28x28x6 output = 14x14x6\n",
    "  conv1 = tf.nn.max_pool(conv1,ksize = [1,2,2,1],strides = [1,2,2,1],padding='VALID')\n",
    "  \n",
    "  #Layer2: Input = 14x14x6 output: 10x10x16\n",
    "  conv2_W = tf.Variable(tf.truncated_normal(shape=(5,5,6,16),mean=mu,stddev = sigma))\n",
    "  conv2_b = tf.Variable(tf.zeros(16))\n",
    "  conv2 = tf.nn.conv2d(conv1,conv2_W,strides = [1,1,1,1],padding = 'VALID') + conv2_b\n",
    "  \n",
    "  #Activation Layer\n",
    "  conv2 = tf.nn.relu(conv2)\n",
    "  \n",
    "  #Pooling Layer : Input = 10x10x16 output: 5x5x16\n",
    "  \n",
    "  conv2 = tf.nn.max_pool(conv2,ksize = [1,2,2,1],strides =[1,2,2,1],padding='VALID')\n",
    "  \n",
    "  #Flatten the output of Conv2\n",
    "  fc0 = flatten(conv2)\n",
    "  \n",
    "  #fully Connected layer : Input = 400 output = 120\n",
    "  fc1_W = tf.Variable(tf.truncated_normal(shape = (400,120),mean=mu,stddev = sigma))\n",
    "  fc1_b = tf.Variable(tf.zeros(120))\n",
    "  fc1 = tf.matmul(fc0,fc1_W)+fc1_b\n",
    "  \n",
    "  #Activation: relu\n",
    "  fc1 = tf.nn.relu(fc1)\n",
    "  \n",
    "  #Dropout \n",
    "  \n",
    "  fc2 = tf.nn.dropout(fc1,dropout)\n",
    "  #Fully Connected Layer Input:120 Output : 84\n",
    "  fc2_W = tf.Variable(tf.truncated_normal(shape = (120,84),mean=mu,stddev = sigma))\n",
    "  fc2_b = tf.Variable(tf.zeros(84))\n",
    "  fc2 = tf.matmul(fc1,fc2_W)+fc2_b\n",
    "  \n",
    "  #relu activation\n",
    "  fc2 = tf.nn.relu(fc2)\n",
    "  \n",
    "  #Dropout\n",
    " \n",
    "  fc2 = tf.nn.dropout(fc2,dropout)\n",
    "  #Output layer Fully Connected Layer Input:83 Output:43\n",
    "  fc3_W = tf.Variable(tf.truncated_normal(shape = (84,43),mean=mu,stddev = sigma))\n",
    "  fc3_b = tf.Variable(tf.zeros(43))\n",
    "  logits = tf.matmul(fc2,fc3_W)+fc3_b\n",
    "  \n",
    "  regularizers = (tf.nn.l2_loss(fc1_W) + tf.nn.l2_loss(fc1_b) + tf.nn.l2_loss(fc2_W) + tf.nn.l2_loss(fc2_b) + tf.nn.l2_loss(fc3_W) + tf.nn.l2_loss(fc3_b))\n",
    "  \n",
    "  \n",
    "  return logits,regularizers"
   ]
  },
  {
   "cell_type": "code",
   "execution_count": 0,
   "metadata": {
    "colab": {},
    "colab_type": "code",
    "id": "h6GV-D43mIaU"
   },
   "outputs": [],
   "source": [
    "#Create placeholders for input tensors \n",
    "x = tf.placeholder(tf.float32,(None,32,32,1))\n",
    "y = tf.placeholder(tf.int32,(None))\n",
    "one_hot_y = tf.one_hot(y,43)"
   ]
  },
  {
   "cell_type": "code",
   "execution_count": 31,
   "metadata": {
    "colab": {
     "base_uri": "https://localhost:8080/",
     "height": 173
    },
    "colab_type": "code",
    "id": "Kf6Fooyer47l",
    "outputId": "f3ac6c2b-d927-4063-b6ee-fce7fda7a121"
   },
   "outputs": [
    {
     "name": "stdout",
     "output_type": "stream",
     "text": [
      "WARNING:tensorflow:From <ipython-input-31-0436997a1c0c>:5: softmax_cross_entropy_with_logits (from tensorflow.python.ops.nn_ops) is deprecated and will be removed in a future version.\n",
      "Instructions for updating:\n",
      "\n",
      "Future major versions of TensorFlow will allow gradients to flow\n",
      "into the labels input on backprop by default.\n",
      "\n",
      "See `tf.nn.softmax_cross_entropy_with_logits_v2`.\n",
      "\n"
     ]
    }
   ],
   "source": [
    "learning_rate = 0.001\n",
    "factor = 5e-4\n",
    "\n",
    "logits , regularizers= LeNet(x)\n",
    "cross_entropy = tf.nn.softmax_cross_entropy_with_logits(labels = one_hot_y,logits = logits)\n",
    "loss_operation = tf.reduce_mean(cross_entropy)\n",
    "loss_operation += factor*regularizers\n",
    "\n",
    "optimizer = tf.train.AdamOptimizer(learning_rate = learning_rate)\n",
    "training_operation = optimizer.minimize(loss_operation)"
   ]
  },
  {
   "cell_type": "code",
   "execution_count": 0,
   "metadata": {
    "colab": {},
    "colab_type": "code",
    "id": "JJLvqJzxuv6E"
   },
   "outputs": [],
   "source": [
    "#Model Evaluation\n",
    "correct_prediction = tf.equal(tf.argmax(logits,1),tf.argmax(one_hot_y,1))\n",
    "accuracy_operation = tf.reduce_mean(tf.cast(correct_prediction,tf.float32))\n",
    "saver = tf.train.Saver()\n",
    "prediction = tf.argmax(logits,1)\n",
    "\n",
    "\n",
    "def evaluate(X_data,y_data):\n",
    "  num_example = len(X_data)\n",
    "  total_accuracy = 0\n",
    "  total_loss = 0\n",
    "  pred = []\n",
    "  sess= tf.get_default_session()\n",
    "  for offset in range(0,num_example,BATCH_SIZE):\n",
    "    batch_x,batch_y = X_data[offset:offset+BATCH_SIZE],y_data[offset:offset+BATCH_SIZE]\n",
    "    accuracy = sess.run(accuracy_operation,feed_dict ={x:batch_x,y:batch_y})\n",
    "    loss = sess.run(loss_operation,feed_dict={x:batch_x,y:batch_y})\n",
    "    predictions = sess.run(prediction,feed_dict = {x:batch_x,y:batch_y})\n",
    "    pred.append(predictions)\n",
    "    total_accuracy += (accuracy*len(batch_x))\n",
    "    total_loss += (loss*len(batch_x))\n",
    "  return total_accuracy/num_example,pred,total_loss/num_example"
   ]
  },
  {
   "cell_type": "markdown",
   "metadata": {
    "colab_type": "text",
    "id": "A8p2ztahy6yI"
   },
   "source": [
    "### Train, Validate and Test the Model"
   ]
  },
  {
   "cell_type": "markdown",
   "metadata": {
    "colab_type": "text",
    "id": "Rn8SzM6sy6yM"
   },
   "source": [
    "A validation set can be used to assess how well the model is performing. A low accuracy on the training and validation\n",
    "sets imply underfitting. A high accuracy on the training set but low accuracy on the validation set implies overfitting."
   ]
  },
  {
   "cell_type": "code",
   "execution_count": 0,
   "metadata": {
    "colab": {},
    "colab_type": "code",
    "id": "1_TihiNUy6yO"
   },
   "outputs": [],
   "source": [
    "### Train your model here.\n",
    "### Calculate and report the accuracy on the training and validation set.\n",
    "### Once a final model architecture is selected, \n",
    "### the accuracy on the test set should be calculated and reported as well.\n",
    "### Feel free to use as many code cells as needed."
   ]
  },
  {
   "cell_type": "code",
   "execution_count": 0,
   "metadata": {
    "colab": {
     "base_uri": "https://localhost:8080/",
     "height": 1598
    },
    "colab_type": "code",
    "id": "qZBgxLBdxaJw",
    "outputId": "19804e4d-4251-487b-f771-f1d951f9ea0a"
   },
   "outputs": [
    {
     "name": "stdout",
     "output_type": "stream",
     "text": [
      "Training Lenet Architecture.......\n",
      "\n",
      "EPOCH 1 ....\n",
      "Validation Accuracy = 0.828\n",
      "\n",
      "EPOCH 2 ....\n",
      "Validation Accuracy = 0.907\n",
      "\n",
      "EPOCH 3 ....\n",
      "Validation Accuracy = 0.932\n",
      "\n",
      "EPOCH 4 ....\n",
      "Validation Accuracy = 0.944\n",
      "\n",
      "EPOCH 5 ....\n",
      "Validation Accuracy = 0.952\n",
      "\n",
      "EPOCH 6 ....\n",
      "Validation Accuracy = 0.962\n",
      "\n",
      "EPOCH 7 ....\n",
      "Validation Accuracy = 0.962\n",
      "\n",
      "EPOCH 8 ....\n",
      "Validation Accuracy = 0.969\n",
      "\n",
      "EPOCH 9 ....\n",
      "Validation Accuracy = 0.968\n",
      "\n",
      "EPOCH 10 ....\n",
      "Validation Accuracy = 0.973\n",
      "\n",
      "EPOCH 11 ....\n",
      "Validation Accuracy = 0.975\n",
      "\n",
      "EPOCH 12 ....\n",
      "Validation Accuracy = 0.978\n",
      "\n",
      "EPOCH 13 ....\n",
      "Validation Accuracy = 0.977\n",
      "\n",
      "EPOCH 14 ....\n",
      "Validation Accuracy = 0.976\n",
      "\n",
      "EPOCH 15 ....\n",
      "Validation Accuracy = 0.979\n",
      "\n",
      "EPOCH 16 ....\n",
      "Validation Accuracy = 0.979\n",
      "\n",
      "EPOCH 17 ....\n",
      "Validation Accuracy = 0.984\n",
      "\n",
      "EPOCH 18 ....\n",
      "Validation Accuracy = 0.982\n",
      "\n",
      "EPOCH 19 ....\n",
      "Validation Accuracy = 0.982\n",
      "\n",
      "EPOCH 20 ....\n",
      "Validation Accuracy = 0.983\n",
      "\n",
      "EPOCH 21 ....\n",
      "Validation Accuracy = 0.985\n",
      "\n",
      "EPOCH 22 ....\n",
      "Validation Accuracy = 0.984\n",
      "\n",
      "EPOCH 23 ....\n",
      "Validation Accuracy = 0.981\n",
      "\n",
      "EPOCH 24 ....\n",
      "Validation Accuracy = 0.986\n",
      "\n",
      "EPOCH 25 ....\n",
      "Validation Accuracy = 0.985\n",
      "\n",
      "EPOCH 26 ....\n",
      "Validation Accuracy = 0.984\n",
      "\n",
      "EPOCH 27 ....\n",
      "Validation Accuracy = 0.984\n",
      "\n",
      "EPOCH 28 ....\n",
      "Validation Accuracy = 0.987\n",
      "\n",
      "EPOCH 29 ....\n",
      "Validation Accuracy = 0.986\n",
      "\n",
      "EPOCH 30 ....\n",
      "Validation Accuracy = 0.987\n",
      "\n",
      "Model Saved\n"
     ]
    }
   ],
   "source": [
    "val_accuracy = []\n",
    "train_accuracy = []\n",
    "val_loss = []\n",
    "train_loss = []\n",
    "\n",
    "with tf.Session() as sess:\n",
    "  sess.run(tf.global_variables_initializer())\n",
    "  num_examples = len(X_train)\n",
    "  print(\"Training Lenet Architecture.......\")\n",
    "  print()\n",
    "  for i in range(EPOCHS):\n",
    "    X_train,y_train = shuffle(X_train,y_train)\n",
    "    for offset in range(0,num_examples,BATCH_SIZE):\n",
    "      end = offset+BATCH_SIZE\n",
    "      batch_x,batch_y = X_train[offset:end],y_train[offset:end]\n",
    "      sess.run(training_operation,feed_dict = {x:batch_x,y:batch_y})\n",
    "    validation_accuracy,_,validation_loss = evaluate(X_valid,y_valid)\n",
    "    training_accuracy,_,training_loss = evaluate(X_train,y_train)\n",
    "    val_accuracy.append(validation_accuracy)\n",
    "    val_loss.append(validation_loss)\n",
    "    train_accuracy.append(training_accuracy)\n",
    "    train_loss.append(training_loss)\n",
    "    print(\"EPOCH {} ....\".format(i+1))\n",
    "    print(\"Validation Accuracy = {:.3f}\".format(validation_accuracy))\n",
    "    print()\n",
    "  saver.save(sess,'./lenet')\n",
    "  print(\"Model Saved\")"
   ]
  },
  {
   "cell_type": "code",
   "execution_count": 0,
   "metadata": {
    "colab": {},
    "colab_type": "code",
    "id": "yXEZsHuD3_Gh"
   },
   "outputs": [],
   "source": [
    "# Plot training and validation loss and accuracies \n",
    "\n",
    "plt.figure(figsize=(20,10))\n",
    "fig = plt.figure()\n",
    "a=fig.add_subplot(121)\n",
    "line_one, = plt.plot(val_accuracy, label='Validation')\n",
    "line_two, = plt.plot(train_accuracy, label = 'Training')\n",
    "plt.ylabel('Accuracy values')\n",
    "plt.xlabel('No. of epochs')\n",
    "plt.legend(handles=[line_one, line_two])\n",
    "\n",
    "a=fig.add_subplot(122)\n",
    "line_one, = plt.plot(val_loss, label='Validation')\n",
    "line_two, = plt.plot(train_loss, label = 'Training')\n",
    "plt.ylabel('Loss values')\n",
    "plt.xlabel('No. of epochs')\n",
    "plt.legend(handles=[line_one, line_two])"
   ]
  },
  {
   "cell_type": "code",
   "execution_count": 33,
   "metadata": {
    "colab": {
     "base_uri": "https://localhost:8080/",
     "height": 51
    },
    "colab_type": "code",
    "id": "phtPUCZADIaE",
    "outputId": "b6f29080-b150-43a7-913f-33f8e4d0fc67"
   },
   "outputs": [
    {
     "name": "stdout",
     "output_type": "stream",
     "text": [
      "INFO:tensorflow:Restoring parameters from ./lenet\n",
      "Test Accuracy = 0.925\n"
     ]
    }
   ],
   "source": [
    "# Check performance on out of sample test dataset\n",
    "\n",
    "with tf.Session() as sess:\n",
    "    saver.restore(sess, tf.train.latest_checkpoint('.'))\n",
    "\n",
    "    test_accuracy, pred, _ = evaluate(X_test, y_test)\n",
    "    \n",
    "    print(\"Test Accuracy = {:.3f}\".format(test_accuracy))"
   ]
  },
  {
   "cell_type": "code",
   "execution_count": 0,
   "metadata": {
    "colab": {
     "base_uri": "https://localhost:8080/",
     "height": 527
    },
    "colab_type": "code",
    "id": "DoChr0jA7J37",
    "outputId": "6be25857-74c0-40c1-a571-21dd568be6c8"
   },
   "outputs": [
    {
     "data": {
      "text/plain": [
       "[0.5906624010260416,\n",
       " 0.38523488841695924,\n",
       " 0.3036736419167509,\n",
       " 0.26114764514257505,\n",
       " 0.2346957888588438,\n",
       " 0.2143769630692574,\n",
       " 0.21345289297241518,\n",
       " 0.1992798378327581,\n",
       " 0.19888136947307528,\n",
       " 0.18110332864792963,\n",
       " 0.1690048647199812,\n",
       " 0.16555453568439757,\n",
       " 0.1564014177563873,\n",
       " 0.16995062199369776,\n",
       " 0.14912820389363501,\n",
       " 0.14270486719009318,\n",
       " 0.16068993900148273,\n",
       " 0.13472470897453956,\n",
       " 0.14209869786114643,\n",
       " 0.12644594357142772,\n",
       " 0.1359046592347132,\n",
       " 0.12909982780136414,\n",
       " 0.13686097341815728,\n",
       " 0.13757564579904666,\n",
       " 0.13083732662872657,\n",
       " 0.1266075704457814,\n",
       " 0.1124731314401668,\n",
       " 0.1185603129651859,\n",
       " 0.11083183289710184,\n",
       " 0.11703020394745181]"
      ]
     },
     "execution_count": 42,
     "metadata": {
      "tags": []
     },
     "output_type": "execute_result"
    }
   ],
   "source": [
    "val_loss\n"
   ]
  },
  {
   "cell_type": "code",
   "execution_count": 0,
   "metadata": {
    "colab": {
     "base_uri": "https://localhost:8080/",
     "height": 527
    },
    "colab_type": "code",
    "id": "XWwSlXSt7RNL",
    "outputId": "1b48eca8-44ee-4522-b18e-c8936464dd82"
   },
   "outputs": [
    {
     "data": {
      "text/plain": [
       "[0.572472344980675,\n",
       " 0.3707584523845195,\n",
       " 0.28173691740378787,\n",
       " 0.24352595604567187,\n",
       " 0.21601557953370548,\n",
       " 0.1937068305723097,\n",
       " 0.1897829172533289,\n",
       " 0.1746048212147475,\n",
       " 0.17540556512925795,\n",
       " 0.1554813682012105,\n",
       " 0.14478355277764246,\n",
       " 0.14272316459386136,\n",
       " 0.13667148063219384,\n",
       " 0.14234549247926084,\n",
       " 0.1287191543729552,\n",
       " 0.11763202398677634,\n",
       " 0.13534506209999234,\n",
       " 0.11656876499161677,\n",
       " 0.12304899684661078,\n",
       " 0.10732016180516263,\n",
       " 0.11367218027270523,\n",
       " 0.1063217845750436,\n",
       " 0.11670376491129669,\n",
       " 0.11296371138728104,\n",
       " 0.11101529927641499,\n",
       " 0.10524149910620137,\n",
       " 0.09607473345220659,\n",
       " 0.09753419928860849,\n",
       " 0.09312854356912514,\n",
       " 0.09747123258062977]"
      ]
     },
     "execution_count": 43,
     "metadata": {
      "tags": []
     },
     "output_type": "execute_result"
    }
   ],
   "source": [
    "train_loss"
   ]
  },
  {
   "cell_type": "markdown",
   "metadata": {
    "colab_type": "text",
    "id": "SFbi42bU4b7L"
   },
   "source": []
  },
  {
   "cell_type": "markdown",
   "metadata": {
    "colab_type": "text",
    "id": "wLWpDF8jy6yT"
   },
   "source": [
    "---\n",
    "\n",
    "## Step 3: Test a Model on New Images\n",
    "\n",
    "To give yourself more insight into how your model is working, download at least five pictures of German traffic signs from the web and use your model to predict the traffic sign type.\n",
    "\n",
    "You may find `signnames.csv` useful as it contains mappings from the class id (integer) to the actual sign name."
   ]
  },
  {
   "cell_type": "markdown",
   "metadata": {
    "colab_type": "text",
    "id": "13TAEqcwy6yT"
   },
   "source": [
    "### Load and Output the Images"
   ]
  },
  {
   "cell_type": "code",
   "execution_count": 0,
   "metadata": {
    "colab": {},
    "colab_type": "code",
    "id": "EjfiDvo-y6yV"
   },
   "outputs": [],
   "source": [
    "### Load the images and plot them here.\n",
    "### Feel free to use as many code cells as needed.\n",
    "\n"
   ]
  },
  {
   "cell_type": "markdown",
   "metadata": {
    "colab_type": "text",
    "id": "6x1K1eD_y6yb"
   },
   "source": [
    "### Predict the Sign Type for Each Image"
   ]
  },
  {
   "cell_type": "code",
   "execution_count": 0,
   "metadata": {
    "colab": {},
    "colab_type": "code",
    "id": "0NJX9ry0JCvH"
   },
   "outputs": [],
   "source": [
    "import cv2"
   ]
  },
  {
   "cell_type": "code",
   "execution_count": 46,
   "metadata": {
    "colab": {
     "base_uri": "https://localhost:8080/",
     "height": 1419
    },
    "colab_type": "code",
    "id": "NuL53516y6yc",
    "outputId": "6561f974-6de9-4539-a5ae-e9cef76c2c4e"
   },
   "outputs": [
    {
     "data": {
      "image/png": "[encoded data removed]",
      "text/plain": [
       "<matplotlib.figure.Figure at 0x7f3e69b97eb8>"
      ]
     },
     "metadata": {
      "tags": []
     },
     "output_type": "display_data"
    },
    {
     "data": {
      "image/png": "[encoded data removed]",
      "text/plain": [
       "<matplotlib.figure.Figure at 0x7f3e63e7b940>"
      ]
     },
     "metadata": {
      "tags": []
     },
     "output_type": "display_data"
    },
    {
     "data": {
      "image/png": "[encoded data removed]",
      "text/plain": [
       "<matplotlib.figure.Figure at 0x7f3e63e44d68>"
      ]
     },
     "metadata": {
      "tags": []
     },
     "output_type": "display_data"
    },
    {
     "data": {
      "image/png": "[encoded data removed]",
      "text/plain": [
       "<matplotlib.figure.Figure at 0x7f3e63dd4898>"
      ]
     },
     "metadata": {
      "tags": []
     },
     "output_type": "display_data"
    },
    {
     "data": {
      "image/png": "[encoded data removed]",
      "text/plain": [
       "<matplotlib.figure.Figure at 0x7f3e63db9978>"
      ]
     },
     "metadata": {
      "tags": []
     },
     "output_type": "display_data"
    },
    {
     "data": {
      "text/plain": [
       "<matplotlib.figure.Figure at 0x7f3e63d78978>"
      ]
     },
     "metadata": {
      "tags": []
     },
     "output_type": "display_data"
    }
   ],
   "source": [
    "### Run the predictions here and use the model to output the prediction for each image.\n",
    "### Make sure to pre-process the images with the same pre-processing pipeline used earlier.\n",
    "### Feel free to use as many code cells as needed.\n",
    "images = ['/content/1.png','/content/2.png','/content/3.png','/content/4.png','/content/5.png']\n",
    "my_labels = np.array([4,14,22,15,28])\n",
    "\n",
    "\n",
    "sign_dwnl = []\n",
    "\n",
    "for i in range(len(images)):\n",
    "  image = cv2.cvtColor(cv2.imread(images[i]),cv2.COLOR_BGR2RGB)\n",
    "  sign_dwnl.append(image)\n",
    "  label = german_csv[german_csv['ClassId']==my_labels[i]]['SignName']\n",
    "  plt.imshow(image)\n",
    "  plt.title(label)\n",
    "  plt.axis('off')\n",
    "  plt.figure()\n",
    "\n",
    "sign_dwnl = np.array(sign_dwnl)"
   ]
  },
  {
   "cell_type": "code",
   "execution_count": 0,
   "metadata": {
    "colab": {},
    "colab_type": "code",
    "id": "ff80E4C9KBB5"
   },
   "outputs": [],
   "source": [
    "sign_dwnld = converttogray(sign_dwnl)\n",
    "sign_dwnld = Normalisation(sign_dwnld)"
   ]
  },
  {
   "cell_type": "code",
   "execution_count": 48,
   "metadata": {
    "colab": {
     "base_uri": "https://localhost:8080/",
     "height": 1419
    },
    "colab_type": "code",
    "id": "aPdqjIFeK4x4",
    "outputId": "5301675c-af74-47c0-f044-fd57a211248c"
   },
   "outputs": [
    {
     "data": {
      "image/png": "[encoded data removed]",
      "text/plain": [
       "<matplotlib.figure.Figure at 0x7f3e69aca4a8>"
      ]
     },
     "metadata": {
      "tags": []
     },
     "output_type": "display_data"
    },
    {
     "data": {
      "image/png": "[encoded data removed]",
      "text/plain": [
       "<matplotlib.figure.Figure at 0x7f3e69aca198>"
      ]
     },
     "metadata": {
      "tags": []
     },
     "output_type": "display_data"
    },
    {
     "data": {
      "image/png": "[encoded data removed]",
      "text/plain": [
       "<matplotlib.figure.Figure at 0x7f3e63c0cc50>"
      ]
     },
     "metadata": {
      "tags": []
     },
     "output_type": "display_data"
    },
    {
     "data": {
      "image/png": "[encoded data removed]",
      "text/plain": [
       "<matplotlib.figure.Figure at 0x7f3e63c4ae80>"
      ]
     },
     "metadata": {
      "tags": []
     },
     "output_type": "display_data"
    },
    {
     "data": {
      "image/png": "[encoded data removed]",
      "text/plain": [
       "<matplotlib.figure.Figure at 0x7f3e63bdc438>"
      ]
     },
     "metadata": {
      "tags": []
     },
     "output_type": "display_data"
    },
    {
     "data": {
      "text/plain": [
       "<matplotlib.figure.Figure at 0x7f3e63bc30f0>"
      ]
     },
     "metadata": {
      "tags": []
     },
     "output_type": "display_data"
    }
   ],
   "source": [
    "for i in range(len(sign_dwnld)):\n",
    "  plt.imshow(sign_dwnld[i].squeeze())\n",
    "  plt.title(german_csv[german_csv['ClassId']==my_labels[i]]['SignName'])\n",
    "  plt.axis('off')\n",
    "  plt.figure()"
   ]
  },
  {
   "cell_type": "code",
   "execution_count": 60,
   "metadata": {
    "colab": {
     "base_uri": "https://localhost:8080/",
     "height": 51
    },
    "colab_type": "code",
    "id": "fIvb78KNLPQG",
    "outputId": "8595084d-1574-4129-b7bb-0cde923410a4"
   },
   "outputs": [
    {
     "name": "stdout",
     "output_type": "stream",
     "text": [
      "INFO:tensorflow:Restoring parameters from ./lenet\n",
      "Accuracy of Downloaded Image Dataset = 0.600\n"
     ]
    }
   ],
   "source": [
    "with tf.Session() as sess:\n",
    "  sess.run(tf.global_variables_initializer())\n",
    "  saver.restore(sess,'./lenet')\n",
    "  sign_accuracy,_,_ = evaluate(sign_dwnld,my_labels)\n",
    "  print(\"Accuracy of Downloaded Image Dataset = {:.3f}\".format(sign_accuracy))"
   ]
  },
  {
   "cell_type": "markdown",
   "metadata": {
    "colab_type": "text",
    "id": "v6sOzK7yy6yg"
   },
   "source": [
    "### Analyze Performance"
   ]
  },
  {
   "cell_type": "code",
   "execution_count": 0,
   "metadata": {
    "colab": {},
    "colab_type": "code",
    "id": "pkV97GCyLOiL"
   },
   "outputs": [],
   "source": []
  },
  {
   "cell_type": "code",
   "execution_count": 0,
   "metadata": {
    "colab": {},
    "colab_type": "code",
    "id": "KEGRCefLy6yg"
   },
   "outputs": [],
   "source": [
    "### Calculate the accuracy for these 5 new images. \n",
    "### For example, if the model predicted 1 out of 5 signs correctly, it's 20% accurate on these new images."
   ]
  },
  {
   "cell_type": "code",
   "execution_count": 58,
   "metadata": {
    "colab": {
     "base_uri": "https://localhost:8080/",
     "height": 357
    },
    "colab_type": "code",
    "id": "Zl_dWKwnPHe8",
    "outputId": "4eb73393-b634-494f-a36b-f56cba403a32"
   },
   "outputs": [
    {
     "name": "stdout",
     "output_type": "stream",
     "text": [
      "INFO:tensorflow:Restoring parameters from ./lenet\n",
      "Image 1\n",
      "Image Accuracy = 1.000\n",
      "\n",
      "INFO:tensorflow:Restoring parameters from ./lenet\n",
      "Image 2\n",
      "Image Accuracy = 1.000\n",
      "\n",
      "INFO:tensorflow:Restoring parameters from ./lenet\n",
      "Image 3\n",
      "Image Accuracy = 0.000\n",
      "\n",
      "INFO:tensorflow:Restoring parameters from ./lenet\n",
      "Image 4\n",
      "Image Accuracy = 1.000\n",
      "\n",
      "INFO:tensorflow:Restoring parameters from ./lenet\n",
      "Image 5\n",
      "Image Accuracy = 0.000\n",
      "\n"
     ]
    }
   ],
   "source": [
    "for i in range(len(sign_dwnld)):\n",
    "  with tf.Session() as sess:\n",
    "    sess.run(tf.global_variables_initializer())\n",
    "    saver.restore(sess,'./lenet')\n",
    "    sign_accuracy,_,_ = evaluate([np.array(sign_dwnld)[i]],[np.array(my_labels)[i]])\n",
    "    print(\"Image {}\".format(i+1))\n",
    "    print(\"Image Accuracy = {:.3f}\".format(sign_accuracy))\n",
    "    print()"
   ]
  },
  {
   "cell_type": "markdown",
   "metadata": {
    "colab_type": "text",
    "id": "BNVRidbYy6yj"
   },
   "source": [
    "### Output Top 5 Softmax Probabilities For Each Image Found on the Web"
   ]
  },
  {
   "cell_type": "markdown",
   "metadata": {
    "colab_type": "text",
    "id": "aZSbIc6fy6ym"
   },
   "source": [
    "For each of the new images, print out the model's softmax probabilities to show the **certainty** of the model's predictions (limit the output to the top 5 probabilities for each image). [`tf.nn.top_k`](https://www.tensorflow.org/versions/r0.12/api_docs/python/nn.html#top_k) could prove helpful here. \n",
    "\n",
    "The example below demonstrates how tf.nn.top_k can be used to find the top k predictions for each image.\n",
    "\n",
    "`tf.nn.top_k` will return the values and indices (class ids) of the top k predictions. So if k=3, for each sign, it'll return the 3 largest probabilities (out of a possible 43) and the correspoding class ids.\n",
    "\n",
    "Take this numpy array as an example. The values in the array represent predictions. The array contains softmax probabilities for five candidate images with six possible classes. `tf.nn.top_k` is used to choose the three classes with the highest probability:\n",
    "\n",
    "```\n",
    "# (5, 6) array\n",
    "a = np.array([[ 0.24879643,  0.07032244,  0.12641572,  0.34763842,  0.07893497,\n",
    "         0.12789202],\n",
    "       [ 0.28086119,  0.27569815,  0.08594638,  0.0178669 ,  0.18063401,\n",
    "         0.15899337],\n",
    "       [ 0.26076848,  0.23664738,  0.08020603,  0.07001922,  0.1134371 ,\n",
    "         0.23892179],\n",
    "       [ 0.11943333,  0.29198961,  0.02605103,  0.26234032,  0.1351348 ,\n",
    "         0.16505091],\n",
    "       [ 0.09561176,  0.34396535,  0.0643941 ,  0.16240774,  0.24206137,\n",
    "         0.09155967]])\n",
    "```\n",
    "\n",
    "Running it through `sess.run(tf.nn.top_k(tf.constant(a), k=3))` produces:\n",
    "\n",
    "```\n",
    "TopKV2(values=array([[ 0.34763842,  0.24879643,  0.12789202],\n",
    "       [ 0.28086119,  0.27569815,  0.18063401],\n",
    "       [ 0.26076848,  0.23892179,  0.23664738],\n",
    "       [ 0.29198961,  0.26234032,  0.16505091],\n",
    "       [ 0.34396535,  0.24206137,  0.16240774]]), indices=array([[3, 0, 5],\n",
    "       [0, 1, 4],\n",
    "       [0, 5, 1],\n",
    "       [1, 3, 5],\n",
    "       [1, 4, 3]], dtype=int32))\n",
    "```\n",
    "\n",
    "Looking just at the first row we get `[ 0.34763842,  0.24879643,  0.12789202]`, you can confirm these are the 3 largest probabilities in `a`. You'll also notice `[3, 0, 5]` are the corresponding indices."
   ]
  },
  {
   "cell_type": "code",
   "execution_count": 63,
   "metadata": {
    "colab": {
     "base_uri": "https://localhost:8080/",
     "height": 629
    },
    "colab_type": "code",
    "id": "v0b_MQq4y6ym",
    "outputId": "dd7f7623-8206-4832-a1db-f5be5bd0c9e9"
   },
   "outputs": [
    {
     "name": "stdout",
     "output_type": "stream",
     "text": [
      "INFO:tensorflow:Restoring parameters from ./lenet\n",
      "Image:1\n",
      "Guess 1 : (100%)\n",
      "Guess 2 : (0%)\n",
      "Guess 3 : (0%)\n",
      "Guess 4 : (0%)\n",
      "Guess 5 : (0%)\n",
      "\n",
      "Image:2\n",
      "Guess 1 : (100%)\n",
      "Guess 2 : (0%)\n",
      "Guess 3 : (0%)\n",
      "Guess 4 : (0%)\n",
      "Guess 5 : (0%)\n",
      "\n",
      "Image:3\n",
      "Guess 1 : (85%)\n",
      "Guess 2 : (7%)\n",
      "Guess 3 : (6%)\n",
      "Guess 4 : (1%)\n",
      "Guess 5 : (0%)\n",
      "\n",
      "Image:4\n",
      "Guess 1 : (100%)\n",
      "Guess 2 : (0%)\n",
      "Guess 3 : (0%)\n",
      "Guess 4 : (0%)\n",
      "Guess 5 : (0%)\n",
      "\n",
      "Image:5\n",
      "Guess 1 : (48%)\n",
      "Guess 2 : (20%)\n",
      "Guess 3 : (20%)\n",
      "Guess 4 : (9%)\n",
      "Guess 5 : (3%)\n",
      "\n"
     ]
    }
   ],
   "source": [
    "### Print out the top five softmax probabilities for the predictions on the German traffic sign images found on the web. \n",
    "### Feel free to use as many code cells as needed.\n",
    "\n",
    "top_k_pred = tf.nn.top_k(tf.nn.softmax(logits),k=5)\n",
    "with tf.Session() as sess:\n",
    "  sess.run(tf.global_variables_initializer())\n",
    "  saver.restore(sess,'./lenet')\n",
    "  top_5 = sess.run(top_k_pred,feed_dict = {x:np.array(sign_dwnld)})\n",
    "for i in range(5):\n",
    "  print(\"Image:{}\".format(i+1))\n",
    "  for j in range(5):\n",
    "    print('Guess {} : ({:.0f}%)'.format(j+1, 100*top_5[0][i][j]))\n",
    "  print()"
   ]
  },
  {
   "cell_type": "code",
   "execution_count": 64,
   "metadata": {
    "colab": {
     "base_uri": "https://localhost:8080/",
     "height": 255
    },
    "colab_type": "code",
    "id": "aeAXRLBDTnyp",
    "outputId": "edc184b0-38b3-41d8-e1fe-bcebeba0ce68"
   },
   "outputs": [
    {
     "name": "stdout",
     "output_type": "stream",
     "text": [
      "TopKV2(values=array([[9.9999988e-01, 1.3988594e-07, 8.4242821e-12, 6.7774302e-13,\n",
      "        3.9380906e-13],\n",
      "       [9.9997628e-01, 2.2480172e-05, 8.2215087e-07, 2.8420712e-07,\n",
      "        2.1376148e-07],\n",
      "       [8.4829521e-01, 7.1373388e-02, 6.1604030e-02, 9.1649909e-03,\n",
      "        4.8232269e-03],\n",
      "       [9.9998665e-01, 8.8848365e-06, 3.5288292e-06, 6.1589463e-07,\n",
      "        2.1239408e-07],\n",
      "       [4.7541907e-01, 2.0352346e-01, 2.0185377e-01, 8.5036911e-02,\n",
      "        3.3136416e-02]], dtype=float32), indices=array([[ 4, 14,  0, 33, 40],\n",
      "       [14, 33, 12, 13, 39],\n",
      "       [ 9, 41, 34, 37, 28],\n",
      "       [15, 32, 12, 14, 18],\n",
      "       [11, 30, 28, 35, 12]], dtype=int32))\n"
     ]
    }
   ],
   "source": [
    "print(top_5)"
   ]
  },
  {
   "cell_type": "markdown",
   "metadata": {
    "colab_type": "text",
    "id": "DoqysJuuy6yr"
   },
   "source": [
    "### Project Writeup\n",
    "\n",
    "Once you have completed the code implementation, document your results in a project writeup using this [template](https://github.com/udacity/CarND-Traffic-Sign-Classifier-Project/blob/master/writeup_template.md) as a guide. The writeup can be in a markdown or pdf file. "
   ]
  },
  {
   "cell_type": "markdown",
   "metadata": {
    "colab_type": "text",
    "id": "yBMWXiaqy6ys"
   },
   "source": [
    "> **Note**: Once you have completed all of the code implementations and successfully answered each question above, you may finalize your work by exporting the iPython Notebook as an HTML document. You can do this by using the menu above and navigating to  \\n\",\n",
    "    \"**File -> Download as -> HTML (.html)**. Include the finished document along with this notebook as your submission."
   ]
  },
  {
   "cell_type": "markdown",
   "metadata": {
    "colab_type": "text",
    "id": "hLp_BgQHy6yt"
   },
   "source": [
    "---\n",
    "\n",
    "## Step 4 (Optional): Visualize the Neural Network's State with Test Images\n",
    "\n",
    " This Section is not required to complete but acts as an additional excersise for understaning the output of a neural network's weights. While neural networks can be a great learning device they are often referred to as a black box. We can understand what the weights of a neural network look like better by plotting their feature maps. After successfully training your neural network you can see what it's feature maps look like by plotting the output of the network's weight layers in response to a test stimuli image. From these plotted feature maps, it's possible to see what characteristics of an image the network finds interesting. For a sign, maybe the inner network feature maps react with high activation to the sign's boundary outline or to the contrast in the sign's painted symbol.\n",
    "\n",
    " Provided for you below is the function code that allows you to get the visualization output of any tensorflow weight layer you want. The inputs to the function should be a stimuli image, one used during training or a new one you provided, and then the tensorflow variable name that represents the layer's state during the training process, for instance if you wanted to see what the [LeNet lab's](https://classroom.udacity.com/nanodegrees/nd013/parts/fbf77062-5703-404e-b60c-95b78b2f3f9e/modules/6df7ae49-c61c-4bb2-a23e-6527e69209ec/lessons/601ae704-1035-4287-8b11-e2c2716217ad/concepts/d4aca031-508f-4e0b-b493-e7b706120f81) feature maps looked like for it's second convolutional layer you could enter conv2 as the tf_activation variable.\n",
    "\n",
    "For an example of what feature map outputs look like, check out NVIDIA's results in their paper [End-to-End Deep Learning for Self-Driving Cars](https://devblogs.nvidia.com/parallelforall/deep-learning-self-driving-cars/) in the section Visualization of internal CNN State. NVIDIA was able to show that their network's inner weights had high activations to road boundary lines by comparing feature maps from an image with a clear path to one without. Try experimenting with a similar test to show that your trained network's weights are looking for interesting features, whether it's looking at differences in feature maps from images with or without a sign, or even what feature maps look like in a trained network vs a completely untrained one on the same sign image.\n",
    "\n",
    "<figure>\n",
    " <img src=\"https://github.com/udacity/CarND-Traffic-Sign-Classifier-Project/blob/master/visualize_cnn.png?raw=1\" width=\"380\" alt=\"Combined Image\" />\n",
    " <figcaption>\n",
    " <p></p> \n",
    " <p style=\"text-align: center;\"> Your output should look something like this (above)</p> \n",
    " </figcaption>\n",
    "</figure>\n",
    " <p></p> \n"
   ]
  },
  {
   "cell_type": "code",
   "execution_count": 0,
   "metadata": {
    "colab": {},
    "colab_type": "code",
    "id": "ooKzi5xty6yu"
   },
   "outputs": [],
   "source": [
    "### Visualize your network's feature maps here.\n",
    "### Feel free to use as many code cells as needed.\n",
    "\n",
    "# image_input: the test image being fed into the network to produce the feature maps\n",
    "# tf_activation: should be a tf variable name used during your training procedure that represents the calculated state of a specific weight layer\n",
    "# activation_min/max: can be used to view the activation contrast in more detail, by default matplot sets min and max to the actual min and max values of the output\n",
    "# plt_num: used to plot out multiple different weight feature map sets on the same block, just extend the plt number for each new feature map entry\n",
    "\n",
    "def outputFeatureMap(image_input, tf_activation, activation_min=-1, activation_max=-1 ,plt_num=1):\n",
    "    # Here make sure to preprocess your image_input in a way your network expects\n",
    "    # with size, normalization, ect if needed\n",
    "    # image_input =\n",
    "    # Note: x should be the same name as your network's tensorflow data placeholder variable\n",
    "    # If you get an error tf_activation is not defined it may be having trouble accessing the variable from inside a function\n",
    "    activation = tf_activation.eval(session=sess,feed_dict={x : image_input})\n",
    "    featuremaps = activation.shape[3]\n",
    "    plt.figure(plt_num, figsize=(15,15))\n",
    "    for featuremap in range(featuremaps):\n",
    "        plt.subplot(6,8, featuremap+1) # sets the number of feature maps to show on each row and column\n",
    "        plt.title('FeatureMap ' + str(featuremap)) # displays the feature map number\n",
    "        if activation_min != -1 & activation_max != -1:\n",
    "            plt.imshow(activation[0,:,:, featuremap], interpolation=\"nearest\", vmin =activation_min, vmax=activation_max, cmap=\"gray\")\n",
    "        elif activation_max != -1:\n",
    "            plt.imshow(activation[0,:,:, featuremap], interpolation=\"nearest\", vmax=activation_max, cmap=\"gray\")\n",
    "        elif activation_min !=-1:\n",
    "            plt.imshow(activation[0,:,:, featuremap], interpolation=\"nearest\", vmin=activation_min, cmap=\"gray\")\n",
    "        else:\n",
    "            plt.imshow(activation[0,:,:, featuremap], interpolation=\"nearest\", cmap=\"gray\")"
   ]
  }
 ],
 "metadata": {
  "accelerator": "GPU",
  "colab": {
   "collapsed_sections": [],
   "name": "Copy of Traffic_Sign_Classifier.ipynb",
   "provenance": [],
   "toc_visible": true,
   "version": "0.3.2"
  },
  "kernelspec": {
   "display_name": "Python 3",
   "language": "python",
   "name": "python3"
  },
  "language_info": {
   "codemirror_mode": {
    "name": "ipython",
    "version": 3
   },
   "file_extension": ".py",
   "mimetype": "text/x-python",
   "name": "python",
   "nbconvert_exporter": "python",
   "pygments_lexer": "ipython3",
   "version": "3.5.6"
  }
 },
 "nbformat": 4,
 "nbformat_minor": 1
}
